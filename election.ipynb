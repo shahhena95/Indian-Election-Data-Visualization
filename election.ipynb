{
 "cells": [
  {
   "cell_type": "code",
   "execution_count": 10,
   "metadata": {
    "collapsed": false
   },
   "outputs": [],
   "source": [
    "\"\"\"Importing header files\"\"\"\n",
    "import os\n",
    "import re\n",
    "import numpy as np\n",
    "import pandas as pd\n",
    "import matplotlib.pyplot as plt\n",
    "from os.path import exists\n",
    "from os.path import join\n",
    "from subprocess import call\n",
    "from urllib import urlretrieve\n",
    "from urlparse import urljoin\n",
    "from Tkinter import *"
   ]
  },
  {
   "cell_type": "code",
   "execution_count": 2,
   "metadata": {
    "collapsed": false
   },
   "outputs": [],
   "source": [
    "def download(year, link) :\n",
    "    \"\"\"To download the data pdf from website and convert it to .txt format\"\"\"\n",
    "    \n",
    "    pdfpath = join(\"pdftext\",year+\".pdf\")\n",
    "    # Create local path for pdf\n",
    "    if not exists(pdfpath) :\n",
    "        urlretrieve(link, pdfpath) #Copy a network object denoted by a URL to a local file, if necessary.\n",
    "        \n",
    "    txtpath = pdfpath.replace(\".pdf\",\".txt\")\n",
    "    if not exists(txtpath) :\n",
    "        call([\"pdftotext\" ,\"-layout\", pdfpath, txtpath])\n",
    "\n",
    "        \n",
    "download(\"2014\",\"http://eci.nic.in/eci_main/archiveofge2014/33%20-%20Constituency%20wise%20detailed%20result.pdf\")"
   ]
  },
  {
   "cell_type": "code",
   "execution_count": 3,
   "metadata": {
    "collapsed": false
   },
   "outputs": [],
   "source": [
    "field = {\"2014.txt\": ['NAME', 'SEX', 'AGE', 'CATEGORY', 'PARTY', 'SYMBOL', 'GENERAL VOTES', 'POSTAL VOTES', 'VOTES', '% ELECTORS', '% VOTES']}"
   ]
  },
  {
   "cell_type": "code",
   "execution_count": 16,
   "metadata": {
    "collapsed": false
   },
   "outputs": [],
   "source": [
    "dictionary = {}"
   ]
  },
  {
   "cell_type": "code",
   "execution_count": 17,
   "metadata": {
    "collapsed": false
   },
   "outputs": [],
   "source": [
    "def dataclean (txtfile) :\n",
    "    re_state = re.compile(\"^[A-Z][A-Za-z &]+$\")\n",
    "    re_constielectors = re.compile(\"CONSTITUENCY *: *\\d+ *\\. *(.*)\")\n",
    "    #re_details = re.compile(\"\\d *[A-Z a-z \\.]*\")\n",
    "    \n",
    "    fieldlist = field[txtfile]\n",
    "    constituency = None\n",
    "    electors = None\n",
    "    state = None\n",
    "    output = []\n",
    "    for line in open(\"pdftext/\"+txtfile) :\n",
    "        match = re_state.match(line)\n",
    "        if match and len(line)<30:\n",
    "            state = match.group()\n",
    "            continue\n",
    "        \n",
    "            \n",
    "        match = re_constielectors.match(line)\n",
    "        if match :\n",
    "            constielectors = match.groups()[0].split()\n",
    "            #constielectors_list = constielectors.split()\n",
    "            constituency = constielectors[0]\n",
    "            electors = constielectors[-2]\n",
    "            #print constituency,electors\n",
    "            continue\n",
    "            \n",
    "            \n",
    "        details = re.split('  +',line.strip())\n",
    "        if len(details) == len(fieldlist) :    \n",
    "            #zipped = zip(fieldlist , details)\n",
    "            dictionary = dict(zip(fieldlist,details))\n",
    "            dictionary['NAME'] = ' '.join(dictionary['NAME'].split()[1:])\n",
    "        else :\n",
    "            continue\n",
    "        \n",
    "        dictionary['STATE'] = state\n",
    "        dictionary['CONSTITUENCY'] = constituency\n",
    "        dictionary['YEAR'] = txtfile.split('.')[0]\n",
    "        output.append(dictionary)\n",
    "        \n",
    "    \n",
    "    df = pd.DataFrame(output).set_index(['STATE','CONSTITUENCY','YEAR'])\n",
    "    if '%' in df:\n",
    "        del df['%']\n",
    "    df.reset_index()\n",
    "    df.to_csv(\"2014.csv\")\n",
    "    return output\n",
    "    \n"
   ]
  },
  {
   "cell_type": "code",
   "execution_count": 11,
   "metadata": {
    "collapsed": false
   },
   "outputs": [
    {
     "name": "stdout",
     "output_type": "stream",
     "text": [
      "5 values will be plotted for Demo Purpose\n",
      "[['NAME', 'SEX', 'AGE', 'CATEGORY', 'PARTY', 'SYMBOL', 'GENERAL VOTES', 'POSTAL VOTES', 'VOTES', '% ELECTORS', '% VOTES']]\n",
      "\n",
      "Give input for X-axisCategory\n",
      "Give input for Y-axisgeneral votes\n"
     ]
    }
   ],
   "source": [
    "def plot(dictionary) :\n",
    "    print \"5 values will be plotted for Demo Purpose\"\n",
    "    print field.values()\n",
    "    print \"\"\n",
    "    x = raw_input(\"Give input for X-axis\")\n",
    "    y = raw_input(\"Give input for Y-axis\")\n",
    "    x = x.upper()\n",
    "    y = y.upper()\n",
    "    plt.ylabel(y)\n",
    "    plt.xlabel(x)\n",
    "    xaxis = range(5)\n",
    "    yaxis = []\n",
    "    xlabels = []\n",
    "    for d in dictionary[:5] :\n",
    "        yaxis.append(float(d[y]))\n",
    "        xlabels.append(d[x])\n",
    "    plt.bar(xaxis, yaxis, width=0.5, align=\"center\") \n",
    "    plt.xticks(xaxis, xlabels)\n",
    "\n",
    "    plt.show()\n",
    "    \n",
    "plot(dataclean(\"2014.txt\"))"
   ]
  },
  {
   "cell_type": "code",
   "execution_count": 15,
   "metadata": {
    "collapsed": false
   },
   "outputs": [
    {
     "ename": "KeyError",
     "evalue": "4",
     "output_type": "error",
     "traceback": [
      "\u001b[1;31m---------------------------------------------------------------------------\u001b[0m",
      "\u001b[1;31mKeyError\u001b[0m                                  Traceback (most recent call last)",
      "\u001b[1;32m<ipython-input-15-27552e891b15>\u001b[0m in \u001b[0;36m<module>\u001b[1;34m()\u001b[0m\n\u001b[1;32m----> 1\u001b[1;33m \u001b[1;32mprint\u001b[0m \u001b[0mfield\u001b[0m\u001b[1;33m[\u001b[0m\u001b[1;36m4\u001b[0m\u001b[1;33m]\u001b[0m\u001b[1;33m\u001b[0m\u001b[0m\n\u001b[0m",
      "\u001b[1;31mKeyError\u001b[0m: 4"
     ]
    }
   ],
   "source": [
    "print field[4]"
   ]
  },
  {
   "cell_type": "code",
   "execution_count": null,
   "metadata": {
    "collapsed": true
   },
   "outputs": [],
   "source": []
  }
 ],
 "metadata": {
  "kernelspec": {
   "display_name": "Python 2",
   "language": "python",
   "name": "python2"
  },
  "language_info": {
   "codemirror_mode": {
    "name": "ipython",
    "version": 2
   },
   "file_extension": ".py",
   "mimetype": "text/x-python",
   "name": "python",
   "nbconvert_exporter": "python",
   "pygments_lexer": "ipython2",
   "version": "2.7.6"
  }
 },
 "nbformat": 4,
 "nbformat_minor": 0
}
