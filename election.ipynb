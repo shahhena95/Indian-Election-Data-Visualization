{
 "cells": [
  {
   "cell_type": "code",
   "execution_count": 111,
   "metadata": {
    "collapsed": false
   },
   "outputs": [],
   "source": [
    "\"\"\"Importing header files\"\"\"\n",
    "import os\n",
    "import re\n",
    "import numpy as np\n",
    "import pandas as pd\n",
    "import matplotlib.pyplot as plt\n",
    "from os.path import exists\n",
    "from os.path import join\n",
    "from subprocess import call\n",
    "from urllib import urlretrieve\n",
    "from urlparse import urljoin\n",
    "from Tkinter import *"
   ]
  },
  {
   "cell_type": "code",
   "execution_count": 112,
   "metadata": {
    "collapsed": false
   },
   "outputs": [],
   "source": [
    "def download(year, link) :\n",
    "    \"\"\"To download the data pdf from website and convert it to .txt format\"\"\"\n",
    "    \n",
    "    pdfpath = join(\"pdftext\",year+\".pdf\")\n",
    "    # Create local path for pdf\n",
    "    if not exists(pdfpath) :\n",
    "        urlretrieve(link, pdfpath) #Copy a network object denoted by a URL to a local file, if necessary.\n",
    "        \n",
    "    txtpath = pdfpath.replace(\".pdf\",\".txt\")\n",
    "    if not exists(txtpath) :\n",
    "        call([\"pdftotext\" ,\"-layout\", pdfpath, txtpath])\n",
    "\n",
    "        \n",
    "download(\"2014\",\"http://eci.nic.in/eci_main/archiveofge2014/33%20-%20Constituency%20wise%20detailed%20result.pdf\")"
   ]
  },
  {
   "cell_type": "code",
   "execution_count": 113,
   "metadata": {
    "collapsed": false
   },
   "outputs": [],
   "source": [
    "\"\"\"Declarations\"\"\"\n",
    "field = {\"2014.txt\": ['NAME', 'SEX', 'AGE', 'CATEGORY', 'PARTY', 'SYMBOL', 'GENERAL VOTES', 'POSTAL VOTES', 'VOTES', '% ELECTORS', '% VOTES']}\n",
    "dictionary = {}"
   ]
  },
  {
   "cell_type": "code",
   "execution_count": 114,
   "metadata": {
    "collapsed": false
   },
   "outputs": [],
   "source": [
    "def dataclean (txtfile) :\n",
    "    re_state = re.compile(\"^[A-Z][A-Za-z &]+$\")\n",
    "    re_constielectors = re.compile(\"CONSTITUENCY *: *\\d+ *\\. *(.*)\")\n",
    "    #re_details = re.compile(\"\\d *[A-Z a-z \\.]*\")\n",
    "    \n",
    "    fieldlist = field[txtfile]\n",
    "    constituency = None\n",
    "    electors = None\n",
    "    state = None\n",
    "    output = []\n",
    "    for line in open(\"pdftext/\"+txtfile) :\n",
    "        match = re_state.match(line)\n",
    "        if match and len(line)<30:\n",
    "            state = match.group()\n",
    "            continue\n",
    "        \n",
    "            \n",
    "        match = re_constielectors.match(line)\n",
    "        if match :\n",
    "            constielectors = match.groups()[0].split()\n",
    "            #constielectors_list = constielectors.split()\n",
    "            constituency = constielectors[0]\n",
    "            electors = constielectors[-2]\n",
    "            #print constituency,electors\n",
    "            continue\n",
    "            \n",
    "            \n",
    "        details = re.split('  +',line.strip())\n",
    "        if len(details) == len(fieldlist) :    \n",
    "            #zipped = zip(fieldlist , details)\n",
    "            dictionary = dict(zip(fieldlist,details))\n",
    "            dictionary['NAME'] = ' '.join(dictionary['NAME'].split()[1:])\n",
    "        else :\n",
    "            continue\n",
    "        \n",
    "        dictionary['STATE'] = state\n",
    "        dictionary['CONSTITUENCY'] = constituency\n",
    "        dictionary['YEAR'] = txtfile.split('.')[0]\n",
    "        output.append(dictionary)\n",
    "        \n",
    "    \n",
    "    df = pd.DataFrame(output).set_index(['STATE','CONSTITUENCY','YEAR'])\n",
    "    if '%' in df:\n",
    "        del df['%']\n",
    "    df.reset_index()\n",
    "    df.to_csv(\"2014.csv\")\n",
    "    return output\n",
    "    \n"
   ]
  },
  {
   "cell_type": "code",
   "execution_count": 171,
   "metadata": {
    "collapsed": false
   },
   "outputs": [],
   "source": [
    "def plot(dictionary) :\n",
    "    X=['STATE', 'CONSTITUENCY', 'AGE', 'CATEGORY', 'PARTY', 'SEX']\n",
    "    Y=['% ELECTORS', '% VOTES', 'GENERAL VOTES', 'POSTAL VOTES', 'VOTES']\n",
    "    x=''\n",
    "    y=''\n",
    "    print \"Let's do some simple visualization !\"\n",
    "    print \"\"\n",
    "    print \"X: STATE, CONSTITUENCY, AGE, CATEGORY, PARTY, SEX\"\n",
    "    print \"Y: % ELECTORS, % VOTES, GENERAL VOTES, POSTAL VOTES, VOTES\"\n",
    "    \n",
    "    while x not in X:\n",
    "        x = raw_input(\"Give input for X-axis\")\n",
    "        x = x.upper()\n",
    "    while y not in Y:\n",
    "        y = raw_input(\"Give input for Y-axis\")\n",
    "        y = y.upper()\n",
    "    \n",
    "    df= pd.read_csv('2014.csv')\n",
    "    df1= df[[x,y]].groupby(x, as_index=False).sum()\n",
    "    \n",
    "    ax= df1[[x,y]].plot(x=x, y=y, kind='bar',figsize=(20, 15), legend=False)\n",
    "    plt.xlabel(x)\n",
    "    plt.ylabel(y)\n",
    "    plt.show()"
   ]
  },
  {
   "cell_type": "code",
   "execution_count": 172,
   "metadata": {
    "collapsed": false
   },
   "outputs": [
    {
     "name": "stdout",
     "output_type": "stream",
     "text": [
      "Let's do some simple visualization !\n",
      "\n",
      "X: STATE, CONSTITUENCY, AGE, CATEGORY, PARTY, SEX\n",
      "Y: % ELECTORS, % VOTES, GENERAL VOTES, POSTAL VOTES, VOTES\n",
      "Give input for X-axissex\n",
      "Give input for Y-axisvotes\n"
     ]
    }
   ],
   "source": [
    "plot(dataclean(\"2014.txt\"))"
   ]
  }
 ],
 "metadata": {
  "kernelspec": {
   "display_name": "Python 2",
   "language": "python",
   "name": "python2"
  },
  "language_info": {
   "codemirror_mode": {
    "name": "ipython",
    "version": 2
   },
   "file_extension": ".py",
   "mimetype": "text/x-python",
   "name": "python",
   "nbconvert_exporter": "python",
   "pygments_lexer": "ipython2",
   "version": "2.7.6"
  }
 },
 "nbformat": 4,
 "nbformat_minor": 0
}
